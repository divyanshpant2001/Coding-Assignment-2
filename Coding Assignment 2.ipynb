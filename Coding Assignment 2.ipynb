{
 "cells": [
  {
   "cell_type": "code",
   "execution_count": 9,
   "id": "ba63923d",
   "metadata": {},
   "outputs": [],
   "source": [
    "def PAN(string):\n",
    "    \n",
    "    if len(string) == 10 and string[0:5].isalpha() and string[5:9].isdigit() and string[9].isalpha():\n",
    "        return True\n",
    "    \n",
    "    else:\n",
    "        return False\n",
    "    "
   ]
  },
  {
   "cell_type": "code",
   "execution_count": 10,
   "id": "d212104f",
   "metadata": {},
   "outputs": [
    {
     "data": {
      "text/plain": [
       "False"
      ]
     },
     "execution_count": 10,
     "metadata": {},
     "output_type": "execute_result"
    }
   ],
   "source": [
    "PAN(\"ABCDE3333ER\")"
   ]
  },
  {
   "cell_type": "code",
   "execution_count": 22,
   "id": "fea39917",
   "metadata": {},
   "outputs": [],
   "source": [
    "def GST(string):\n",
    "    \n",
    "    if len(string) == 15 and string[0:2].isdigit() and string[2:7].isalpha() and string[7:11].isdigit() and string[11].isalpha() and string[12].isdigit() and string[13].isalpha() and string[14].isdigit():\n",
    "        return True\n",
    "    \n",
    "    else:\n",
    "        return False"
   ]
  },
  {
   "cell_type": "code",
   "execution_count": 24,
   "id": "b571fd1e",
   "metadata": {},
   "outputs": [
    {
     "data": {
      "text/plain": [
       "False"
      ]
     },
     "execution_count": 24,
     "metadata": {},
     "output_type": "execute_result"
    }
   ],
   "source": [
    "GST(\"12ABCDE3456F7Gf\")"
   ]
  },
  {
   "cell_type": "code",
   "execution_count": 29,
   "id": "c40806e8",
   "metadata": {},
   "outputs": [],
   "source": [
    "def DL(string):\n",
    "    \n",
    "    if len(string) == 15 and string[0:2].isalpha() and string[2:15].isdigit():\n",
    "        return True\n",
    "    \n",
    "    else:\n",
    "        return False\n"
   ]
  },
  {
   "cell_type": "code",
   "execution_count": 30,
   "id": "160740cf",
   "metadata": {},
   "outputs": [
    {
     "data": {
      "text/plain": [
       "False"
      ]
     },
     "execution_count": 30,
     "metadata": {},
     "output_type": "execute_result"
    }
   ],
   "source": [
    "DL(\"AB123456123456R\")"
   ]
  },
  {
   "cell_type": "code",
   "execution_count": 31,
   "id": "6d53d66e",
   "metadata": {},
   "outputs": [],
   "source": [
    "def ADHAAR(string):\n",
    "    \n",
    "    if len(string) == 12 and string[0:12].isdigit():\n",
    "        return True\n",
    "    \n",
    "    else:\n",
    "        return False\n",
    "    "
   ]
  },
  {
   "cell_type": "code",
   "execution_count": 35,
   "id": "e2229067",
   "metadata": {},
   "outputs": [
    {
     "data": {
      "text/plain": [
       "False"
      ]
     },
     "execution_count": 35,
     "metadata": {},
     "output_type": "execute_result"
    }
   ],
   "source": [
    "ADHAAR(\"121212121211w\")"
   ]
  },
  {
   "cell_type": "code",
   "execution_count": null,
   "id": "5723c200",
   "metadata": {},
   "outputs": [],
   "source": []
  }
 ],
 "metadata": {
  "kernelspec": {
   "display_name": "Python 3 (ipykernel)",
   "language": "python",
   "name": "python3"
  },
  "language_info": {
   "codemirror_mode": {
    "name": "ipython",
    "version": 3
   },
   "file_extension": ".py",
   "mimetype": "text/x-python",
   "name": "python",
   "nbconvert_exporter": "python",
   "pygments_lexer": "ipython3",
   "version": "3.9.7"
  }
 },
 "nbformat": 4,
 "nbformat_minor": 5
}
